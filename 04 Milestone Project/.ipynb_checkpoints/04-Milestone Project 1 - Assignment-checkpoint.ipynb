{
 "cells": [
  {
   "cell_type": "markdown",
   "metadata": {},
   "source": [
    "___\n",
    "\n",
    "<a href='https://www.udemy.com/user/joseportilla/'><img src='../Pierian_Data_Logo.png'/></a>\n",
    "___\n",
    "<center><em>Content Copyright by Pierian Data</em></center>"
   ]
  },
  {
   "cell_type": "markdown",
   "metadata": {},
   "source": [
    "# Milestone Project 1\n",
    "## Congratulations on making it to your first milestone!\n",
    "You've already learned a ton and are ready to work on a real project.\n",
    "\n",
    "Your assignment: Create a Tic Tac Toe game. You are free to use any IDE you like.\n",
    "\n",
    "Here are the requirements:\n",
    "\n",
    "* 2 players should be able to play the game (both sitting at the same computer)\n",
    "* The board should be printed out every time a player makes a move\n",
    "* You should be able to accept input of the player position and then place a symbol on the board\n",
    "\n",
    "Feel free to use Google to help you figure anything out (but don't just Google \"Tic Tac Toe in Python\" otherwise you won't learn anything!) Keep in mind that this project can take anywhere between several hours to several days.\n",
    "\n",
    "There are 4 Jupyter Notebooks related to this assignment:\n",
    "\n",
    "* This Assignment Notebook\n",
    "* A \"Walkthrough Steps Workbook\" Notebook\n",
    "* A \"Complete Walkthrough Solution\" Notebook\n",
    "* An \"Advanced Solution\" Notebook\n",
    "\n",
    "I encourage you to just try to start the project on your own without referencing any of the notebooks. If you get stuck, check out the next lecture which is a text lecture with helpful hints and steps. If you're still stuck after that, then check out the Walkthrough Steps Workbook, which breaks up the project in steps for you to solve. Still stuck? Then check out the Complete Walkthrough Solution video for more help on approaching the project!"
   ]
  },
  {
   "cell_type": "markdown",
   "metadata": {},
   "source": [
    "There are parts of this that will be a struggle...and that is good! I have complete faith that if you have made it this far through the course you have all the tools and knowledge to tackle this project. Remember, it's totally open book, so take your time, do a little research, and remember:\n",
    "\n",
    "## HAVE FUN!"
   ]
  },
  {
   "cell_type": "code",
   "execution_count": 3,
   "metadata": {},
   "outputs": [],
   "source": [
    "from IPython.display import clear_output\n",
    "#variables\n",
    "game_state=True\n",
    "game=[[' ',' ',' '],[' ',' ',' '],[' ',' ',' ']]\n",
    "keyboard=[['7','8','9'],['4','5','6'],['1','2','3']]\n",
    "key={7:[0,0],8:[0,1],9:[0,2],4:[1,0],5:[1,1],6:[1,2],1:[2,0],2:[2,1],3:[2,2]}\n",
    "player1=None\n",
    "player2=None\n",
    "player=1\n",
    "win=False\n"
   ]
  },
  {
   "cell_type": "code",
   "execution_count": 4,
   "metadata": {},
   "outputs": [],
   "source": [
    "def askForPlayer():\n",
    "    player1=None\n",
    "    player2=None\n",
    "    player_input=None\n",
    "    while ( player_input not in ['X', 'O']):\n",
    "        clear_output() \n",
    "        print('Bienvenido a triky')\n",
    "        player_input=input('jugador uno sera X o O: ').upper()\n",
    "    clear_output()    \n",
    "    if player_input=='X':\n",
    "        player1='X'\n",
    "        player2='O'\n",
    "    elif player_input=='O': \n",
    "        player1='O'\n",
    "        player2='X'\n",
    "    return(player1,player2)"
   ]
  },
  {
   "cell_type": "code",
   "execution_count": 5,
   "metadata": {},
   "outputs": [],
   "source": [
    "def showBoard():\n",
    "    global game\n",
    "    global player1\n",
    "    global player2\n",
    "    i=0;\n",
    "    print(f'El jugador 1 es {player1} y el jugador 2 es {player2} \\n\\n\\n')\n",
    "    for line in range(0,len(game)):\n",
    "        print (' '+game[line][0]+' ║ '+game[line][1]+' ║ '+game[line][2]+'        '+' '+keyboard[line][0]+' ║ '+keyboard[line][1]+' ║ '+keyboard[line][2]+' ')\n",
    "        if i<2:\n",
    "            print ('═══╬═══╬═══       ═══╬═══╬═══')\n",
    "            \n",
    "        i+=1\n",
    "    print('\\n')"
   ]
  },
  {
   "cell_type": "code",
   "execution_count": 6,
   "metadata": {},
   "outputs": [],
   "source": [
    "def playAgain():\n",
    "    state= None\n",
    "    player_input=None\n",
    "    while ( player_input not in ['S', 'N']):\n",
    "        player_input=input('Deseas jugar nuevamente S o N: ').upper()\n",
    "        clear_output()    \n",
    "    if player_input=='S':\n",
    "        return True\n",
    "    elif player_input=='N': \n",
    "        return False"
   ]
  },
  {
   "cell_type": "code",
   "execution_count": 7,
   "metadata": {},
   "outputs": [],
   "source": [
    "def move():\n",
    "    global player\n",
    "    player_input=None\n",
    "    value=10\n",
    "    while (value not in range(1,10)):\n",
    "        clear_output()\n",
    "        showBoard()\n",
    "        player_input=input(f'Jugador {player} ingresa tu siguiente jugada (0 a 9): ')\n",
    "        if player_input.isdigit():\n",
    "            player_input=int(player_input)\n",
    "            if player_input in range(1,10):\n",
    "                if game[key[player_input][0]][key[player_input][1]]== ' ':\n",
    "                    value=player_input\n",
    "    return value"
   ]
  },
  {
   "cell_type": "code",
   "execution_count": 8,
   "metadata": {},
   "outputs": [],
   "source": [
    "def updateBoard(pos):\n",
    "    global player\n",
    "    if player==1:\n",
    "        game[key[pos][0]][key[pos][1]]=player1\n",
    "        player=2\n",
    "    elif player==2:\n",
    "        game[key[pos][0]][key[pos][1]]=player2\n",
    "        player=1\n",
    "        "
   ]
  },
  {
   "cell_type": "code",
   "execution_count": 42,
   "metadata": {},
   "outputs": [],
   "source": [
    "def won():\n",
    "    if ' ' not in game[0]+game[1]+game[2]:\n",
    "        clear_output()\n",
    "        showBoard()\n",
    "        print('Empate')\n",
    "        return 'TIE'\n",
    "    elif game[0] in [['X','X','X'],['O','O','O']] or game[1] in [['X','X','X'],['O','O','O']] or game[0] in [['X','X','X'],['O','O','O']] or game[0][0]==game[1][0]==game[2][0]!=' ' or game[0][1]==game[1][1]==game[2][1]!=' ' or game[0][2]==game[1][2]==game[2][2]!=' ' or game[0][0]==game[1][1]==game[2][2]!=' ' or game[0][2]==game[1][1]==game[2][0]!=' ':\n",
    "        if  player==2:\n",
    "            clear_output()\n",
    "            showBoard()\n",
    "            print('Gana el jugador 1')\n",
    "            return player1\n",
    "        elif player==1:\n",
    "            clear_output()\n",
    "            showBoard()\n",
    "            print('Gana el jugador 2')\n",
    "            return player2"
   ]
  },
  {
   "cell_type": "code",
   "execution_count": 43,
   "metadata": {},
   "outputs": [],
   "source": [
    "def clearGame():\n",
    "    global game\n",
    "    game=[[' ',' ',' '],[' ',' ',' '],[' ',' ',' ']]"
   ]
  },
  {
   "cell_type": "markdown",
   "metadata": {},
   "source": [
    "# TIC TAC TOE"
   ]
  },
  {
   "cell_type": "code",
   "execution_count": 44,
   "metadata": {},
   "outputs": [
    {
     "name": "stdout",
     "output_type": "stream",
     "text": [
      "Gracias por jugar\n"
     ]
    }
   ],
   "source": [
    "clear_output()\n",
    "# verify if want to play\n",
    "while(game_state):\n",
    "    clearGame();\n",
    "    # ask for player\n",
    "    player1,player2=askForPlayer();\n",
    "    # show board\n",
    "    while(game_state):\n",
    "        showBoard()\n",
    "        # ask for imput \n",
    "        pos=move()\n",
    "        # update board\n",
    "        updateBoard(pos)\n",
    "        # verify if win\n",
    "        win=won()\n",
    "        # ask for play again\n",
    "        if win in ['X','O','TIE']:\n",
    "            game_state=playAgain()\n",
    "            break\n",
    "    print('Gracias por jugar')\n",
    "game_state=True"
   ]
  },
  {
   "cell_type": "markdown",
   "metadata": {},
   "source": [
    "# TIC TAC TOE"
   ]
  },
  {
   "cell_type": "code",
   "execution_count": 46,
   "metadata": {},
   "outputs": [
    {
     "name": "stdout",
     "output_type": "stream",
     "text": [
      "Gracias por jugar\n"
     ]
    }
   ],
   "source": [
    "from IPython.display import clear_output\n",
    "#variables\n",
    "game_state=True\n",
    "game=[[' ',' ',' '],[' ',' ',' '],[' ',' ',' ']]\n",
    "keyboard=[['7','8','9'],['4','5','6'],['1','2','3']]\n",
    "key={7:[0,0],8:[0,1],9:[0,2],4:[1,0],5:[1,1],6:[1,2],1:[2,0],2:[2,1],3:[2,2]}\n",
    "player1=None\n",
    "player2=None\n",
    "player=1\n",
    "win=False\n",
    "\n",
    "def askForPlayer():\n",
    "    player1=None\n",
    "    player2=None\n",
    "    player_input=None\n",
    "    while ( player_input not in ['X', 'O']):\n",
    "        clear_output() \n",
    "        print('Bienvenido a triky')\n",
    "        player_input=input('jugador uno sera X o O: ').upper()\n",
    "    clear_output()    \n",
    "    if player_input=='X':\n",
    "        player1='X'\n",
    "        player2='O'\n",
    "    elif player_input=='O': \n",
    "        player1='O'\n",
    "        player2='X'\n",
    "    return(player1,player2)\n",
    "\n",
    "def showBoard():\n",
    "    global game\n",
    "    global player1\n",
    "    global player2\n",
    "    i=0;\n",
    "    print(f'El jugador 1 es {player1} y el jugador 2 es {player2} \\n\\n\\n')\n",
    "    for line in range(0,len(game)):\n",
    "        print (' '+game[line][0]+' ║ '+game[line][1]+' ║ '+game[line][2]+'        '+' '+keyboard[line][0]+' ║ '+keyboard[line][1]+' ║ '+keyboard[line][2]+' ')\n",
    "        if i<2:\n",
    "            print ('═══╬═══╬═══       ═══╬═══╬═══')\n",
    "            \n",
    "        i+=1\n",
    "    print('\\n')\n",
    "    \n",
    "def playAgain():\n",
    "    state= None\n",
    "    player_input=None\n",
    "    while ( player_input not in ['S', 'N']):\n",
    "        player_input=input('Deseas jugar nuevamente S o N: ').upper()\n",
    "        clear_output()    \n",
    "    if player_input=='S':\n",
    "        return True\n",
    "    elif player_input=='N': \n",
    "        return False\n",
    "\n",
    "\n",
    "def move():\n",
    "    global player\n",
    "    player_input=None\n",
    "    value=10\n",
    "    while (value not in range(1,10)):\n",
    "        clear_output()\n",
    "        showBoard()\n",
    "        player_input=input(f'Jugador {player} ingresa tu siguiente jugada (0 a 9): ')\n",
    "        if player_input.isdigit():\n",
    "            player_input=int(player_input)\n",
    "            if player_input in range(0,10):\n",
    "                if game[key[player_input][0]][key[player_input][1]]== ' ':\n",
    "                    value=player_input\n",
    "    return value\n",
    "\n",
    "def updateBoard(pos):\n",
    "    global player\n",
    "    if player==1:\n",
    "        game[key[pos][0]][key[pos][1]]=player1\n",
    "        player=2\n",
    "    elif player==2:\n",
    "        game[key[pos][0]][key[pos][1]]=player2\n",
    "        player=1\n",
    "        \n",
    "def won():\n",
    "    if ' ' not in game[0]+game[1]+game[2]:\n",
    "        clear_output()\n",
    "        showBoard()\n",
    "        print('Empate')\n",
    "        return 'TIE'\n",
    "    elif game[0] in [['X','X','X'],['O','O','O']] or game[1] in [['X','X','X'],['O','O','O']] or game[0] in [['X','X','X'],['O','O','O']] or game[0][0]==game[1][0]==game[2][0]!=' ' or game[0][1]==game[1][1]==game[2][1]!=' ' or game[0][2]==game[1][2]==game[2][2]!=' ' or game[0][0]==game[1][1]==game[2][2]!=' ' or game[0][2]==game[1][1]==game[2][0]!=' ':\n",
    "        if  player==2:\n",
    "            clear_output()\n",
    "            showBoard()\n",
    "            print('Gana el jugador 1')\n",
    "            return player1\n",
    "        elif player==1:\n",
    "            clear_output()\n",
    "            showBoard()\n",
    "            print('Gana el jugador 2')\n",
    "            return player2\n",
    "\n",
    "def clearGame():\n",
    "    global game\n",
    "    game=[[' ',' ',' '],[' ',' ',' '],[' ',' ',' ']]\n",
    "    \n",
    "clear_output()\n",
    "# verify if want to play\n",
    "while(game_state):\n",
    "    clearGame();\n",
    "    # ask for player\n",
    "    player1,player2=askForPlayer();\n",
    "    # show board\n",
    "    while(game_state):\n",
    "        showBoard()\n",
    "        # ask for imput \n",
    "        pos=move()\n",
    "        # update board\n",
    "        updateBoard(pos)\n",
    "        # verify if win\n",
    "        win=won()\n",
    "        # ask for play again\n",
    "        if win in ['X','O','TIE']:\n",
    "            game_state=playAgain()\n",
    "            break\n",
    "    print('Gracias por jugar')\n",
    "game_state=True"
   ]
  },
  {
   "cell_type": "code",
   "execution_count": null,
   "metadata": {},
   "outputs": [],
   "source": []
  }
 ],
 "metadata": {
  "kernelspec": {
   "display_name": "Python 3",
   "language": "python",
   "name": "python3"
  }
 },
 "nbformat": 4,
 "nbformat_minor": 1
}
