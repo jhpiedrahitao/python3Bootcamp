{
 "cells": [
  {
   "cell_type": "markdown",
   "metadata": {},
   "source": [
    "# sending an email"
   ]
  },
  {
   "cell_type": "code",
   "execution_count": 1,
   "metadata": {
    "ExecuteTime": {
     "end_time": "2020-09-25T02:25:54.746052Z",
     "start_time": "2020-09-25T02:25:54.740064Z"
    }
   },
   "outputs": [],
   "source": [
    "import smtplib"
   ]
  },
  {
   "cell_type": "code",
   "execution_count": 11,
   "metadata": {
    "ExecuteTime": {
     "end_time": "2020-09-25T02:18:43.327923Z",
     "start_time": "2020-09-25T02:18:43.093941Z"
    }
   },
   "outputs": [],
   "source": [
    "smtp_object = smtplib.SMTP('smtp.gmail.com',587)#465"
   ]
  },
  {
   "cell_type": "code",
   "execution_count": 12,
   "metadata": {
    "ExecuteTime": {
     "end_time": "2020-09-25T02:18:43.992574Z",
     "start_time": "2020-09-25T02:18:43.910676Z"
    }
   },
   "outputs": [
    {
     "data": {
      "text/plain": [
       "(250,\n",
       " b'smtp.gmail.com at your service, [186.84.21.98]\\nSIZE 35882577\\n8BITMIME\\nSTARTTLS\\nENHANCEDSTATUSCODES\\nPIPELINING\\nCHUNKING\\nSMTPUTF8')"
      ]
     },
     "execution_count": 12,
     "metadata": {},
     "output_type": "execute_result"
    }
   ],
   "source": [
    "smtp_object.ehlo()"
   ]
  },
  {
   "cell_type": "code",
   "execution_count": 13,
   "metadata": {
    "ExecuteTime": {
     "end_time": "2020-09-25T02:18:44.832052Z",
     "start_time": "2020-09-25T02:18:44.699565Z"
    }
   },
   "outputs": [
    {
     "data": {
      "text/plain": [
       "(220, b'2.0.0 Ready to start TLS')"
      ]
     },
     "execution_count": 13,
     "metadata": {},
     "output_type": "execute_result"
    }
   ],
   "source": [
    "smtp_object.starttls()"
   ]
  },
  {
   "cell_type": "code",
   "execution_count": 14,
   "metadata": {
    "ExecuteTime": {
     "end_time": "2020-09-25T02:18:45.472727Z",
     "start_time": "2020-09-25T02:18:45.468737Z"
    }
   },
   "outputs": [],
   "source": [
    "import getpass"
   ]
  },
  {
   "cell_type": "code",
   "execution_count": 15,
   "metadata": {
    "ExecuteTime": {
     "end_time": "2020-09-25T02:18:46.985367Z",
     "start_time": "2020-09-25T02:18:46.236795Z"
    }
   },
   "outputs": [
    {
     "name": "stdout",
     "output_type": "stream",
     "text": [
      "what is your password: \n"
     ]
    },
    {
     "data": {
      "text/plain": [
       "''"
      ]
     },
     "execution_count": 15,
     "metadata": {},
     "output_type": "execute_result"
    }
   ],
   "source": [
    "input('what is your password: ')"
   ]
  },
  {
   "cell_type": "code",
   "execution_count": 16,
   "metadata": {
    "ExecuteTime": {
     "end_time": "2020-09-25T02:18:53.055274Z",
     "start_time": "2020-09-25T02:18:49.564767Z"
    }
   },
   "outputs": [
    {
     "name": "stdout",
     "output_type": "stream",
     "text": [
      "what is your password: ········\n"
     ]
    }
   ],
   "source": [
    "password=getpass.getpass('what is your password: ')"
   ]
  },
  {
   "cell_type": "code",
   "execution_count": null,
   "metadata": {
    "ExecuteTime": {
     "start_time": "2020-09-25T02:25:23.957Z"
    }
   },
   "outputs": [
    {
     "name": "stdout",
     "output_type": "stream",
     "text": [
      "Email: ········\n"
     ]
    }
   ],
   "source": [
    "# app generated password for gmail\n",
    "email=getpass.getpass(\"Email: \")\n",
    "password=getpass.getpass(\"Password: \")\n",
    "smtp_object.login(email,password)"
   ]
  },
  {
   "cell_type": "code",
   "execution_count": 18,
   "metadata": {
    "ExecuteTime": {
     "end_time": "2020-09-25T02:23:10.111810Z",
     "start_time": "2020-09-25T02:22:47.148217Z"
    }
   },
   "outputs": [
    {
     "name": "stdout",
     "output_type": "stream",
     "text": [
      "subject: python test\n",
      "message: hola este es mi primer test enviando un email dede python \n"
     ]
    },
    {
     "data": {
      "text/plain": [
       "{}"
      ]
     },
     "execution_count": 18,
     "metadata": {},
     "output_type": "execute_result"
    }
   ],
   "source": [
    "from_adress=email\n",
    "to_adress=email\n",
    "subject=input('subject: ')\n",
    "message=input('message: ')\n",
    "msg= \"Subject: \"+subject+'\\n'+message\n",
    "\n",
    "smtp_object.sendmail(from_adress,to_adress,msg)"
   ]
  },
  {
   "cell_type": "code",
   "execution_count": 19,
   "metadata": {
    "ExecuteTime": {
     "end_time": "2020-09-25T02:23:33.990420Z",
     "start_time": "2020-09-25T02:23:33.917448Z"
    }
   },
   "outputs": [
    {
     "data": {
      "text/plain": [
       "(221, b'2.0.0 closing connection w186sm180512vsw.1 - gsmtp')"
      ]
     },
     "execution_count": 19,
     "metadata": {},
     "output_type": "execute_result"
    }
   ],
   "source": [
    "smtp_object.quit()"
   ]
  },
  {
   "cell_type": "markdown",
   "metadata": {},
   "source": [
    "# Receiving Emails"
   ]
  },
  {
   "cell_type": "code",
   "execution_count": 49,
   "metadata": {
    "ExecuteTime": {
     "end_time": "2020-09-25T02:53:11.583788Z",
     "start_time": "2020-09-25T02:53:11.579798Z"
    }
   },
   "outputs": [],
   "source": [
    "import imaplib"
   ]
  },
  {
   "cell_type": "code",
   "execution_count": 50,
   "metadata": {
    "ExecuteTime": {
     "end_time": "2020-09-25T02:53:12.216533Z",
     "start_time": "2020-09-25T02:53:12.212544Z"
    }
   },
   "outputs": [],
   "source": [
    "import email"
   ]
  },
  {
   "cell_type": "code",
   "execution_count": 51,
   "metadata": {
    "ExecuteTime": {
     "end_time": "2020-09-25T02:53:13.028676Z",
     "start_time": "2020-09-25T02:53:12.785801Z"
    }
   },
   "outputs": [],
   "source": [
    "M=imaplib.IMAP4_SSL('imap.gmail.com')"
   ]
  },
  {
   "cell_type": "code",
   "execution_count": 52,
   "metadata": {
    "ExecuteTime": {
     "end_time": "2020-09-25T02:53:13.574117Z",
     "start_time": "2020-09-25T02:53:13.570128Z"
    }
   },
   "outputs": [],
   "source": [
    "import getpass"
   ]
  },
  {
   "cell_type": "code",
   "execution_count": 54,
   "metadata": {
    "ExecuteTime": {
     "end_time": "2020-09-25T02:53:41.875921Z",
     "start_time": "2020-09-25T02:53:19.611677Z"
    }
   },
   "outputs": [
    {
     "name": "stdout",
     "output_type": "stream",
     "text": [
      "Email: ········\n",
      "Pasword: ········\n"
     ]
    }
   ],
   "source": [
    "email=getpass.getpass('Email: ')\n",
    "password=getpass.getpass('Pasword: ')"
   ]
  },
  {
   "cell_type": "code",
   "execution_count": 55,
   "metadata": {
    "ExecuteTime": {
     "end_time": "2020-09-25T02:53:42.969809Z",
     "start_time": "2020-09-25T02:53:42.661815Z"
    }
   },
   "outputs": [
    {
     "data": {
      "text/plain": [
       "('OK', [b'jhpiedrahitao97@gmail.com authenticated (Success)'])"
      ]
     },
     "execution_count": 55,
     "metadata": {},
     "output_type": "execute_result"
    }
   ],
   "source": [
    "M.login(email,password)"
   ]
  },
  {
   "cell_type": "code",
   "execution_count": 56,
   "metadata": {
    "ExecuteTime": {
     "end_time": "2020-09-25T02:53:44.419612Z",
     "start_time": "2020-09-25T02:53:44.322655Z"
    }
   },
   "outputs": [
    {
     "data": {
      "text/plain": [
       "('OK',\n",
       " [b'(\\\\HasNoChildren) \"/\" \"INBOX\"',\n",
       "  b'(\\\\HasChildren) \"/\" \"Personal\"',\n",
       "  b'(\\\\HasNoChildren) \"/\" \"Personal/MisionTIC2022\"',\n",
       "  b'(\\\\HasNoChildren) \"/\" \"Personal/Smart\"',\n",
       "  b'(\\\\HasNoChildren) \"/\" \"Personal/financial\"',\n",
       "  b'(\\\\HasNoChildren) \"/\" \"Receipts\"',\n",
       "  b'(\\\\HasChildren) \"/\" \"Work\"',\n",
       "  b'(\\\\HasNoChildren) \"/\" \"Work/Mas detecci&APM-n mas vida\"',\n",
       "  b'(\\\\HasChildren \\\\Noselect) \"/\" \"[Gmail]\"',\n",
       "  b'(\\\\All \\\\HasNoChildren) \"/\" \"[Gmail]/All Mail\"',\n",
       "  b'(\\\\Drafts \\\\HasNoChildren) \"/\" \"[Gmail]/Drafts\"',\n",
       "  b'(\\\\HasNoChildren \\\\Important) \"/\" \"[Gmail]/Important\"',\n",
       "  b'(\\\\HasNoChildren \\\\Sent) \"/\" \"[Gmail]/Sent Mail\"',\n",
       "  b'(\\\\HasNoChildren \\\\Junk) \"/\" \"[Gmail]/Spam\"',\n",
       "  b'(\\\\Flagged \\\\HasNoChildren) \"/\" \"[Gmail]/Starred\"',\n",
       "  b'(\\\\HasNoChildren \\\\Trash) \"/\" \"[Gmail]/Trash\"'])"
      ]
     },
     "execution_count": 56,
     "metadata": {},
     "output_type": "execute_result"
    }
   ],
   "source": [
    "M.list()"
   ]
  },
  {
   "cell_type": "code",
   "execution_count": 57,
   "metadata": {
    "ExecuteTime": {
     "end_time": "2020-09-25T02:53:47.102635Z",
     "start_time": "2020-09-25T02:53:46.989622Z"
    }
   },
   "outputs": [
    {
     "data": {
      "text/plain": [
       "('OK', [b'3289'])"
      ]
     },
     "execution_count": 57,
     "metadata": {},
     "output_type": "execute_result"
    }
   ],
   "source": [
    "M.select('inbox')"
   ]
  },
  {
   "cell_type": "markdown",
   "metadata": {},
   "source": [
    "<table border='1' >\n",
    "    <tr >\n",
    "        <th align='center'>Keyword </th>\n",
    "        <th align='center'>Definition</th>\n",
    "    </tr>\n",
    "    <tr>\n",
    "        <td>'ALL'</td>\n",
    "        <td>\n",
    "        Returns all messages in your email folder. Often there are size limits from imaplib.\n",
    "        To change these use imaplib._MAXLINE = 100 , where 100 is whatever you want the limit to be.\n",
    "        </td>\n",
    "    </tr>\n",
    "    \n",
    "    <tr>\n",
    "        <td>'BEFORE date'</td>\n",
    "        <td>\n",
    "        Returns all messages before the date. Date must be formatted as 01-Nov-2000.\n",
    "        </td>\n",
    "    </tr>\n",
    "    \n",
    "     <tr>\n",
    "        <td>'ON date'</td>\n",
    "        <td>\n",
    "        Returns all messages on the date. Date must be formatted as 01-Nov-2000.\n",
    "        </td>\n",
    "    </tr>\n",
    "    \n",
    "     <tr>\n",
    "        <td>'SINCE date'</td>\n",
    "        <td>\n",
    "        Returns all messages after the date. Date must be formatted as 01-Nov-2000.\n",
    "        </td>\n",
    "    </tr>\n",
    "    \n",
    "    <tr>\n",
    "        <td>'FROM some_string '</td>\n",
    "        <td>\n",
    "        Returns all from the sender in the string. String can be an email, for example 'FROM               user@example.com' or just a string that may appear in the email, \"FROM example\"\n",
    "        </td>\n",
    "    </tr>\n",
    "    \n",
    "    <tr>\n",
    "        <td>'TO some_string'</td>\n",
    "        <td>\n",
    "        Returns all outgoing email to the email in the string. String can be an email, for example 'FROM user@example.com' or just a string that may appear in the email, \"FROM example\"\n",
    "        </td>\n",
    "    </tr>\n",
    "    \n",
    "    <tr>\n",
    "        <td>'CC some_string' and/or 'BCC some_string'</td>\n",
    "        <td>\n",
    "        Returns all messages in your email folder. Often there are size limits from imaplib.\n",
    "        To change these use imaplib._MAXLINE = 100 , where 100 is whatever you want the limit to be.\n",
    "        </td>\n",
    "    </tr>\n",
    "    \n",
    "    <tr>\n",
    "        <td>'SUBJECT string','BODY string','TEXT \"string with spaces\"'</td>\n",
    "        <td>\n",
    "        Returns all messages with the subject string or the string in the body of the email. If the string you are searching for has spaces in it, wrap it in double quotes.\n",
    "        </td>\n",
    "    </tr>\n",
    "    \n",
    "    <tr>\n",
    "        <td>'SEEN', 'UNSEEN'</td>\n",
    "        <td>\n",
    "        Returns all messages that have been seen or unseen. (Also known as read or unread)\n",
    "        </td>\n",
    "    </tr>\n",
    "    \n",
    "    \n",
    "        <tr>\n",
    "        <td>'ANSWERED', 'UNANSWERED'</td>\n",
    "        <td>\n",
    "        Returns all messages that have been replied to or unreplied to. \n",
    "        </td>\n",
    "    </tr>\n",
    "    \n",
    "    \n",
    "        <tr>\n",
    "        <td>'DELETED', 'UNDELETED'</td>\n",
    "        <td>\n",
    "        Returns all messages that have been deleted or that have not been deleted.\n",
    "        </td>\n",
    "    </tr>\n",
    "    \n",
    "    \n",
    "</table>"
   ]
  },
  {
   "cell_type": "code",
   "execution_count": 58,
   "metadata": {
    "ExecuteTime": {
     "end_time": "2020-09-25T02:53:51.926801Z",
     "start_time": "2020-09-25T02:53:51.804497Z"
    }
   },
   "outputs": [],
   "source": [
    "typ, data=M.search(None,'SUBJECT \"python test\"')"
   ]
  },
  {
   "cell_type": "code",
   "execution_count": 59,
   "metadata": {
    "ExecuteTime": {
     "end_time": "2020-09-25T02:53:52.680722Z",
     "start_time": "2020-09-25T02:53:52.675764Z"
    }
   },
   "outputs": [
    {
     "data": {
      "text/plain": [
       "'OK'"
      ]
     },
     "execution_count": 59,
     "metadata": {},
     "output_type": "execute_result"
    }
   ],
   "source": [
    "typ"
   ]
  },
  {
   "cell_type": "code",
   "execution_count": 60,
   "metadata": {
    "ExecuteTime": {
     "end_time": "2020-09-25T02:53:53.230294Z",
     "start_time": "2020-09-25T02:53:53.226305Z"
    }
   },
   "outputs": [
    {
     "data": {
      "text/plain": [
       "[b'3289']"
      ]
     },
     "execution_count": 60,
     "metadata": {},
     "output_type": "execute_result"
    }
   ],
   "source": [
    "data"
   ]
  },
  {
   "cell_type": "code",
   "execution_count": 61,
   "metadata": {
    "ExecuteTime": {
     "end_time": "2020-09-25T02:53:53.630788Z",
     "start_time": "2020-09-25T02:53:53.626798Z"
    }
   },
   "outputs": [],
   "source": [
    "email_id=data[0]"
   ]
  },
  {
   "cell_type": "code",
   "execution_count": 62,
   "metadata": {
    "ExecuteTime": {
     "end_time": "2020-09-25T02:53:54.111904Z",
     "start_time": "2020-09-25T02:53:54.010637Z"
    }
   },
   "outputs": [],
   "source": [
    "result , email_data = M.fetch(email_id,'(RFC822)')"
   ]
  },
  {
   "cell_type": "code",
   "execution_count": 63,
   "metadata": {
    "ExecuteTime": {
     "end_time": "2020-09-25T02:53:54.592730Z",
     "start_time": "2020-09-25T02:53:54.586749Z"
    }
   },
   "outputs": [
    {
     "data": {
      "text/plain": [
       "[(b'3289 (RFC822 {581}',\n",
       "  b'Bcc: jhpiedrahitao97@gmail.com\\r\\nReturn-Path: <jhpiedrahitao97@gmail.com>\\r\\nReceived: from [192.168.1.58] ([186.84.21.98])\\r\\n        by smtp.gmail.com with ESMTPSA id w186sm180512vsw.1.2020.09.24.19.23.10\\r\\n        for <jhpiedrahitao97@gmail.com>\\r\\n        (version=TLS1_3 cipher=TLS_AES_256_GCM_SHA384 bits=256/256);\\r\\n        Thu, 24 Sep 2020 19:23:11 -0700 (PDT)\\r\\nMessage-ID: <5f6d548f.1c69fb81.55975.14ba@mx.google.com>\\r\\nDate: Thu, 24 Sep 2020 19:23:11 -0700 (PDT)\\r\\nFrom: jhpiedrahitao97@gmail.com\\r\\nSubject: python test\\r\\n\\r\\nhola este es mi primer test enviando un email dede python \\r\\n'),\n",
       " b')']"
      ]
     },
     "execution_count": 63,
     "metadata": {},
     "output_type": "execute_result"
    }
   ],
   "source": [
    "email_data"
   ]
  },
  {
   "cell_type": "code",
   "execution_count": 64,
   "metadata": {
    "ExecuteTime": {
     "end_time": "2020-09-25T02:53:54.981395Z",
     "start_time": "2020-09-25T02:53:54.978371Z"
    }
   },
   "outputs": [],
   "source": [
    "raw_email=email_data[0][1]"
   ]
  },
  {
   "cell_type": "code",
   "execution_count": 65,
   "metadata": {
    "ExecuteTime": {
     "end_time": "2020-09-25T02:53:55.376424Z",
     "start_time": "2020-09-25T02:53:55.370437Z"
    }
   },
   "outputs": [
    {
     "data": {
      "text/plain": [
       "b'Bcc: jhpiedrahitao97@gmail.com\\r\\nReturn-Path: <jhpiedrahitao97@gmail.com>\\r\\nReceived: from [192.168.1.58] ([186.84.21.98])\\r\\n        by smtp.gmail.com with ESMTPSA id w186sm180512vsw.1.2020.09.24.19.23.10\\r\\n        for <jhpiedrahitao97@gmail.com>\\r\\n        (version=TLS1_3 cipher=TLS_AES_256_GCM_SHA384 bits=256/256);\\r\\n        Thu, 24 Sep 2020 19:23:11 -0700 (PDT)\\r\\nMessage-ID: <5f6d548f.1c69fb81.55975.14ba@mx.google.com>\\r\\nDate: Thu, 24 Sep 2020 19:23:11 -0700 (PDT)\\r\\nFrom: jhpiedrahitao97@gmail.com\\r\\nSubject: python test\\r\\n\\r\\nhola este es mi primer test enviando un email dede python \\r\\n'"
      ]
     },
     "execution_count": 65,
     "metadata": {},
     "output_type": "execute_result"
    }
   ],
   "source": [
    "raw_email"
   ]
  },
  {
   "cell_type": "code",
   "execution_count": 66,
   "metadata": {
    "ExecuteTime": {
     "end_time": "2020-09-25T02:53:55.821974Z",
     "start_time": "2020-09-25T02:53:55.817951Z"
    }
   },
   "outputs": [],
   "source": [
    "raw_email_string  = raw_email.decode('utf-8')"
   ]
  },
  {
   "cell_type": "code",
   "execution_count": 67,
   "metadata": {
    "ExecuteTime": {
     "end_time": "2020-09-25T02:53:56.458172Z",
     "start_time": "2020-09-25T02:53:56.452208Z"
    }
   },
   "outputs": [
    {
     "data": {
      "text/plain": [
       "'Bcc: jhpiedrahitao97@gmail.com\\r\\nReturn-Path: <jhpiedrahitao97@gmail.com>\\r\\nReceived: from [192.168.1.58] ([186.84.21.98])\\r\\n        by smtp.gmail.com with ESMTPSA id w186sm180512vsw.1.2020.09.24.19.23.10\\r\\n        for <jhpiedrahitao97@gmail.com>\\r\\n        (version=TLS1_3 cipher=TLS_AES_256_GCM_SHA384 bits=256/256);\\r\\n        Thu, 24 Sep 2020 19:23:11 -0700 (PDT)\\r\\nMessage-ID: <5f6d548f.1c69fb81.55975.14ba@mx.google.com>\\r\\nDate: Thu, 24 Sep 2020 19:23:11 -0700 (PDT)\\r\\nFrom: jhpiedrahitao97@gmail.com\\r\\nSubject: python test\\r\\n\\r\\nhola este es mi primer test enviando un email dede python \\r\\n'"
      ]
     },
     "execution_count": 67,
     "metadata": {},
     "output_type": "execute_result"
    }
   ],
   "source": [
    "raw_email_string"
   ]
  },
  {
   "cell_type": "code",
   "execution_count": 68,
   "metadata": {
    "ExecuteTime": {
     "end_time": "2020-09-25T02:53:57.096717Z",
     "start_time": "2020-09-25T02:53:57.092749Z"
    }
   },
   "outputs": [],
   "source": [
    "import email"
   ]
  },
  {
   "cell_type": "code",
   "execution_count": 69,
   "metadata": {
    "ExecuteTime": {
     "end_time": "2020-09-25T02:53:57.735599Z",
     "start_time": "2020-09-25T02:53:57.731612Z"
    }
   },
   "outputs": [],
   "source": [
    "email_message = email.message_from_string(raw_email_string)"
   ]
  },
  {
   "cell_type": "code",
   "execution_count": 70,
   "metadata": {
    "ExecuteTime": {
     "end_time": "2020-09-25T02:53:58.287087Z",
     "start_time": "2020-09-25T02:53:58.282066Z"
    }
   },
   "outputs": [
    {
     "data": {
      "text/plain": [
       "<email.message.Message at 0x1d80161e648>"
      ]
     },
     "execution_count": 70,
     "metadata": {},
     "output_type": "execute_result"
    }
   ],
   "source": [
    "email_message"
   ]
  },
  {
   "cell_type": "code",
   "execution_count": 71,
   "metadata": {
    "ExecuteTime": {
     "end_time": "2020-09-25T02:53:58.816107Z",
     "start_time": "2020-09-25T02:53:58.812116Z"
    }
   },
   "outputs": [
    {
     "name": "stdout",
     "output_type": "stream",
     "text": [
      "b'hola este es mi primer test enviando un email dede python \\r\\n'\n"
     ]
    }
   ],
   "source": [
    "for part in email_message.walk():\n",
    "    if part.get_content_type()=='text/plain':\n",
    "        body=part.get_payload(decode=True)\n",
    "        print(body)"
   ]
  },
  {
   "cell_type": "code",
   "execution_count": 72,
   "metadata": {
    "ExecuteTime": {
     "end_time": "2020-09-25T02:53:59.318840Z",
     "start_time": "2020-09-25T02:53:59.314850Z"
    }
   },
   "outputs": [],
   "source": [
    "for part in email_message.walk():\n",
    "    if part.get_content_type()=='text/html':  #para buscar links\n",
    "        body=part.get_payload(decode=True)\n",
    "        print(body)"
   ]
  },
  {
   "cell_type": "code",
   "execution_count": null,
   "metadata": {},
   "outputs": [],
   "source": []
  }
 ],
 "metadata": {
  "kernelspec": {
   "display_name": "Python 3",
   "language": "python",
   "name": "python3"
  },
  "language_info": {
   "codemirror_mode": {
    "name": "ipython",
    "version": 3
   },
   "file_extension": ".py",
   "mimetype": "text/x-python",
   "name": "python",
   "nbconvert_exporter": "python",
   "pygments_lexer": "ipython3",
   "version": "3.7.6"
  },
  "toc": {
   "base_numbering": 1,
   "nav_menu": {},
   "number_sections": true,
   "sideBar": true,
   "skip_h1_title": false,
   "title_cell": "Table of Contents",
   "title_sidebar": "Contents",
   "toc_cell": false,
   "toc_position": {},
   "toc_section_display": true,
   "toc_window_display": false
  },
  "varInspector": {
   "cols": {
    "lenName": 16,
    "lenType": 16,
    "lenVar": 40
   },
   "kernels_config": {
    "python": {
     "delete_cmd_postfix": "",
     "delete_cmd_prefix": "del ",
     "library": "var_list.py",
     "varRefreshCmd": "print(var_dic_list())"
    },
    "r": {
     "delete_cmd_postfix": ") ",
     "delete_cmd_prefix": "rm(",
     "library": "var_list.r",
     "varRefreshCmd": "cat(var_dic_list()) "
    }
   },
   "types_to_exclude": [
    "module",
    "function",
    "builtin_function_or_method",
    "instance",
    "_Feature"
   ],
   "window_display": false
  }
 },
 "nbformat": 4,
 "nbformat_minor": 4
}
