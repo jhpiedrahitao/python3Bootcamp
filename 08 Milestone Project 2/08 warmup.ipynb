{
 "cells": [
  {
   "cell_type": "markdown",
   "metadata": {},
   "source": [
    "# war"
   ]
  },
  {
   "cell_type": "code",
   "execution_count": 1,
   "metadata": {},
   "outputs": [],
   "source": [
    "import random\n",
    "#Card\n",
    "#Suit, rank, value  \n",
    "suits = ('Hearts', 'Diamonds', 'Spades', 'Clubs')\n",
    "ranks = ('Two', 'Three', 'Four', 'Five', 'Six', 'Seven', 'Eight', 'Nine', 'Ten', 'Jack', 'Queen', 'King', 'Ace')\n",
    "values = {'Two':2, 'Three':3, 'Four':4, 'Five':5, 'Six':6, 'Seven':7, 'Eight':8, \n",
    "            'Nine':9, 'Ten':10, 'Jack':11, 'Queen':12, 'King':13, 'Ace':14}"
   ]
  },
  {
   "cell_type": "code",
   "execution_count": 2,
   "metadata": {},
   "outputs": [],
   "source": [
    "class Card:\n",
    "    \n",
    "    def __init__(self,suit,rank):\n",
    "        self.suit=suit\n",
    "        self.rank=rank\n",
    "        self.value=values[rank]\n",
    "    \n",
    "    def __str__(self):\n",
    "        return self.rank+\" of \"+self.suit"
   ]
  },
  {
   "cell_type": "code",
   "execution_count": 3,
   "metadata": {},
   "outputs": [],
   "source": [
    "two_hearts = Card(\"Hearts\",\"Two\")"
   ]
  },
  {
   "cell_type": "code",
   "execution_count": 4,
   "metadata": {},
   "outputs": [
    {
     "data": {
      "text/plain": [
       "<__main__.Card at 0x1c7010a1208>"
      ]
     },
     "execution_count": 4,
     "metadata": {},
     "output_type": "execute_result"
    }
   ],
   "source": [
    "two_hearts"
   ]
  },
  {
   "cell_type": "code",
   "execution_count": 5,
   "metadata": {},
   "outputs": [
    {
     "name": "stdout",
     "output_type": "stream",
     "text": [
      "Two of Hearts\n"
     ]
    }
   ],
   "source": [
    "print(two_hearts)"
   ]
  },
  {
   "cell_type": "code",
   "execution_count": 6,
   "metadata": {},
   "outputs": [
    {
     "data": {
      "text/plain": [
       "'Hearts'"
      ]
     },
     "execution_count": 6,
     "metadata": {},
     "output_type": "execute_result"
    }
   ],
   "source": [
    "two_hearts.suit"
   ]
  },
  {
   "cell_type": "code",
   "execution_count": 7,
   "metadata": {},
   "outputs": [
    {
     "data": {
      "text/plain": [
       "'Two'"
      ]
     },
     "execution_count": 7,
     "metadata": {},
     "output_type": "execute_result"
    }
   ],
   "source": [
    "two_hearts.rank"
   ]
  },
  {
   "cell_type": "code",
   "execution_count": 8,
   "metadata": {},
   "outputs": [],
   "source": [
    "values = {'Two':2, 'Three':3, 'Four':4, 'Five':5, 'Six':6, 'Seven':7, 'Eight':8, \n",
    "            'Nine':9, 'Ten':10, 'Jack':11, 'Queen':12, 'King':13, 'Ace':14}"
   ]
  },
  {
   "cell_type": "code",
   "execution_count": 9,
   "metadata": {},
   "outputs": [
    {
     "data": {
      "text/plain": [
       "2"
      ]
     },
     "execution_count": 9,
     "metadata": {},
     "output_type": "execute_result"
    }
   ],
   "source": [
    "values[two_hearts.rank]"
   ]
  },
  {
   "cell_type": "code",
   "execution_count": 10,
   "metadata": {},
   "outputs": [
    {
     "data": {
      "text/plain": [
       "2"
      ]
     },
     "execution_count": 10,
     "metadata": {},
     "output_type": "execute_result"
    }
   ],
   "source": [
    "two_hearts.value"
   ]
  },
  {
   "cell_type": "code",
   "execution_count": 11,
   "metadata": {},
   "outputs": [],
   "source": [
    "three_clus = Card(\"Clubs\",\"Three\")"
   ]
  },
  {
   "cell_type": "code",
   "execution_count": 12,
   "metadata": {},
   "outputs": [
    {
     "data": {
      "text/plain": [
       "True"
      ]
     },
     "execution_count": 12,
     "metadata": {},
     "output_type": "execute_result"
    }
   ],
   "source": [
    "two_hearts.value < three_clus.value"
   ]
  },
  {
   "cell_type": "code",
   "execution_count": 13,
   "metadata": {},
   "outputs": [],
   "source": [
    "#deck\n"
   ]
  },
  {
   "cell_type": "code",
   "execution_count": 52,
   "metadata": {},
   "outputs": [],
   "source": [
    "class Deck():\n",
    "    def __init__(self):\n",
    "        \n",
    "        self.all_cards = []\n",
    "        \n",
    "        for suit in suits:\n",
    "            for rank in ranks:\n",
    "                self.all_cards.append(Card(suit,rank))\n",
    "    \n",
    "    def __str__(self):\n",
    "        cardlist=''\n",
    "        for card in self.all_cards:\n",
    "            cardlist+=str(card)+'\\n'\n",
    "        return cardlist\n",
    "   \n",
    "    def shuffle(self):\n",
    "        random.shuffle(self.all_cards)\n",
    "    \n",
    "    def deal_one(self):\n",
    "        return self.all_cards.pop() \n",
    "    "
   ]
  },
  {
   "cell_type": "code",
   "execution_count": 53,
   "metadata": {},
   "outputs": [],
   "source": [
    "newdeck=Deck()"
   ]
  },
  {
   "cell_type": "code",
   "execution_count": 54,
   "metadata": {},
   "outputs": [
    {
     "data": {
      "text/plain": [
       "[<__main__.Card at 0x1c702f28308>,\n",
       " <__main__.Card at 0x1c702f28808>,\n",
       " <__main__.Card at 0x1c702f282c8>,\n",
       " <__main__.Card at 0x1c702f28648>,\n",
       " <__main__.Card at 0x1c702f23fc8>,\n",
       " <__main__.Card at 0x1c702f23548>,\n",
       " <__main__.Card at 0x1c702f23bc8>,\n",
       " <__main__.Card at 0x1c702f23388>,\n",
       " <__main__.Card at 0x1c702f23788>,\n",
       " <__main__.Card at 0x1c702f23b48>,\n",
       " <__main__.Card at 0x1c702f23688>,\n",
       " <__main__.Card at 0x1c702f233c8>,\n",
       " <__main__.Card at 0x1c702f23b88>,\n",
       " <__main__.Card at 0x1c702f23d48>,\n",
       " <__main__.Card at 0x1c702f23208>,\n",
       " <__main__.Card at 0x1c702f23308>,\n",
       " <__main__.Card at 0x1c702f23708>,\n",
       " <__main__.Card at 0x1c702f23608>,\n",
       " <__main__.Card at 0x1c702f23f08>,\n",
       " <__main__.Card at 0x1c702f23a88>,\n",
       " <__main__.Card at 0x1c702f23348>,\n",
       " <__main__.Card at 0x1c702f23288>,\n",
       " <__main__.Card at 0x1c702f23748>,\n",
       " <__main__.Card at 0x1c702f23e08>,\n",
       " <__main__.Card at 0x1c702f23b08>,\n",
       " <__main__.Card at 0x1c702f23148>,\n",
       " <__main__.Card at 0x1c7010be9c8>,\n",
       " <__main__.Card at 0x1c7010be6c8>,\n",
       " <__main__.Card at 0x1c702f0f848>,\n",
       " <__main__.Card at 0x1c702f0f748>,\n",
       " <__main__.Card at 0x1c702f0f508>,\n",
       " <__main__.Card at 0x1c702f0fa48>,\n",
       " <__main__.Card at 0x1c702f0fb88>,\n",
       " <__main__.Card at 0x1c702f1ed08>,\n",
       " <__main__.Card at 0x1c702f1ee48>,\n",
       " <__main__.Card at 0x1c702f1e588>,\n",
       " <__main__.Card at 0x1c702f1e6c8>,\n",
       " <__main__.Card at 0x1c702f1e608>,\n",
       " <__main__.Card at 0x1c702f1e748>,\n",
       " <__main__.Card at 0x1c702f1e108>,\n",
       " <__main__.Card at 0x1c702f1e1c8>,\n",
       " <__main__.Card at 0x1c702f1e088>,\n",
       " <__main__.Card at 0x1c702f1ed88>,\n",
       " <__main__.Card at 0x1c702f1ef48>,\n",
       " <__main__.Card at 0x1c702f1ec88>,\n",
       " <__main__.Card at 0x1c702f1ef08>,\n",
       " <__main__.Card at 0x1c702f1ee88>,\n",
       " <__main__.Card at 0x1c702f1edc8>,\n",
       " <__main__.Card at 0x1c702f1e308>,\n",
       " <__main__.Card at 0x1c702f1eb48>,\n",
       " <__main__.Card at 0x1c702f1e988>,\n",
       " <__main__.Card at 0x1c702f1ea88>]"
      ]
     },
     "execution_count": 54,
     "metadata": {},
     "output_type": "execute_result"
    }
   ],
   "source": [
    "newdeck.all_cards"
   ]
  },
  {
   "cell_type": "code",
   "execution_count": 55,
   "metadata": {},
   "outputs": [
    {
     "name": "stdout",
     "output_type": "stream",
     "text": [
      "Two of Hearts\n",
      "Three of Hearts\n",
      "Four of Hearts\n",
      "Five of Hearts\n",
      "Six of Hearts\n",
      "Seven of Hearts\n",
      "Eight of Hearts\n",
      "Nine of Hearts\n",
      "Ten of Hearts\n",
      "Jack of Hearts\n",
      "Queen of Hearts\n",
      "King of Hearts\n",
      "Ace of Hearts\n",
      "Two of Diamonds\n",
      "Three of Diamonds\n",
      "Four of Diamonds\n",
      "Five of Diamonds\n",
      "Six of Diamonds\n",
      "Seven of Diamonds\n",
      "Eight of Diamonds\n",
      "Nine of Diamonds\n",
      "Ten of Diamonds\n",
      "Jack of Diamonds\n",
      "Queen of Diamonds\n",
      "King of Diamonds\n",
      "Ace of Diamonds\n",
      "Two of Spades\n",
      "Three of Spades\n",
      "Four of Spades\n",
      "Five of Spades\n",
      "Six of Spades\n",
      "Seven of Spades\n",
      "Eight of Spades\n",
      "Nine of Spades\n",
      "Ten of Spades\n",
      "Jack of Spades\n",
      "Queen of Spades\n",
      "King of Spades\n",
      "Ace of Spades\n",
      "Two of Clubs\n",
      "Three of Clubs\n",
      "Four of Clubs\n",
      "Five of Clubs\n",
      "Six of Clubs\n",
      "Seven of Clubs\n",
      "Eight of Clubs\n",
      "Nine of Clubs\n",
      "Ten of Clubs\n",
      "Jack of Clubs\n",
      "Queen of Clubs\n",
      "King of Clubs\n",
      "Ace of Clubs\n",
      "\n"
     ]
    }
   ],
   "source": [
    "print(newdeck)"
   ]
  },
  {
   "cell_type": "code",
   "execution_count": 56,
   "metadata": {},
   "outputs": [],
   "source": [
    "newdeck.shuffle()"
   ]
  },
  {
   "cell_type": "code",
   "execution_count": 57,
   "metadata": {},
   "outputs": [
    {
     "name": "stdout",
     "output_type": "stream",
     "text": [
      "Queen of Spades\n",
      "Ace of Hearts\n",
      "Two of Spades\n",
      "Ace of Clubs\n",
      "Two of Diamonds\n",
      "Three of Diamonds\n",
      "Three of Clubs\n",
      "Four of Spades\n",
      "Nine of Hearts\n",
      "Seven of Spades\n",
      "Four of Clubs\n",
      "Five of Hearts\n",
      "Queen of Clubs\n",
      "Two of Clubs\n",
      "Six of Hearts\n",
      "Three of Spades\n",
      "Eight of Hearts\n",
      "Jack of Diamonds\n",
      "Seven of Clubs\n",
      "King of Hearts\n",
      "Eight of Spades\n",
      "Three of Hearts\n",
      "Five of Diamonds\n",
      "Nine of Diamonds\n",
      "Six of Spades\n",
      "Nine of Clubs\n",
      "Ten of Hearts\n",
      "Ace of Diamonds\n",
      "Ten of Clubs\n",
      "Jack of Clubs\n",
      "Queen of Hearts\n",
      "Five of Clubs\n",
      "Six of Clubs\n",
      "Ace of Spades\n",
      "Four of Hearts\n",
      "Eight of Clubs\n",
      "Jack of Hearts\n",
      "Seven of Hearts\n",
      "Two of Hearts\n",
      "Queen of Diamonds\n",
      "King of Clubs\n",
      "Ten of Diamonds\n",
      "Ten of Spades\n",
      "King of Spades\n",
      "Jack of Spades\n",
      "Nine of Spades\n",
      "King of Diamonds\n",
      "Six of Diamonds\n",
      "Four of Diamonds\n",
      "Eight of Diamonds\n",
      "Five of Spades\n",
      "Seven of Diamonds\n",
      "\n"
     ]
    }
   ],
   "source": [
    "print(newdeck)"
   ]
  },
  {
   "cell_type": "code",
   "execution_count": 20,
   "metadata": {},
   "outputs": [],
   "source": [
    "popcard=newdeck.deal_one()"
   ]
  },
  {
   "cell_type": "code",
   "execution_count": 21,
   "metadata": {},
   "outputs": [
    {
     "data": {
      "text/plain": [
       "<__main__.Card at 0x1c7010b6488>"
      ]
     },
     "execution_count": 21,
     "metadata": {},
     "output_type": "execute_result"
    }
   ],
   "source": [
    "popcard"
   ]
  },
  {
   "cell_type": "code",
   "execution_count": 22,
   "metadata": {},
   "outputs": [
    {
     "name": "stdout",
     "output_type": "stream",
     "text": [
      "Two of Diamonds\n"
     ]
    }
   ],
   "source": [
    "print(popcard)"
   ]
  },
  {
   "cell_type": "code",
   "execution_count": 23,
   "metadata": {},
   "outputs": [
    {
     "data": {
      "text/plain": [
       "51"
      ]
     },
     "execution_count": 23,
     "metadata": {},
     "output_type": "execute_result"
    }
   ],
   "source": [
    "len(newdeck.all_cards)"
   ]
  },
  {
   "cell_type": "code",
   "execution_count": 24,
   "metadata": {},
   "outputs": [],
   "source": [
    "#player"
   ]
  },
  {
   "cell_type": "code",
   "execution_count": 25,
   "metadata": {},
   "outputs": [],
   "source": [
    "class Player():\n",
    "    \n",
    "    def __init__(self,name):\n",
    "        self.name=name\n",
    "        self.all_cards=[]\n",
    "        \n",
    "    def __str__(self):\n",
    "        cardlist=''\n",
    "        for card in self.all_cards:\n",
    "            cardlist+=str(card)+'\\n'\n",
    "        return f'player {self.name} has {len(self.all_cards)} cards \\n'+cardlist\n",
    "    \n",
    "    def remove_one(self):\n",
    "        return self.all_cards.pop(0)\n",
    "    def add_cards(self,newcards):\n",
    "        \n",
    "        if type(newcards)==type([]):\n",
    "            self.all_cards.extend(newcards)\n",
    "        else:\n",
    "            self.all_cards.append(newcards)\n",
    "            "
   ]
  },
  {
   "cell_type": "code",
   "execution_count": 26,
   "metadata": {},
   "outputs": [],
   "source": [
    "newplayer=Player('jorge')"
   ]
  },
  {
   "cell_type": "code",
   "execution_count": 27,
   "metadata": {},
   "outputs": [
    {
     "name": "stdout",
     "output_type": "stream",
     "text": [
      "player jorge has 0 cards \n",
      "\n"
     ]
    }
   ],
   "source": [
    "print(newplayer)"
   ]
  },
  {
   "cell_type": "code",
   "execution_count": 28,
   "metadata": {},
   "outputs": [],
   "source": [
    "newplayer.add_cards(two_hearts)"
   ]
  },
  {
   "cell_type": "code",
   "execution_count": 29,
   "metadata": {},
   "outputs": [
    {
     "name": "stdout",
     "output_type": "stream",
     "text": [
      "player jorge has 1 cards \n",
      "Two of Hearts\n",
      "\n"
     ]
    }
   ],
   "source": [
    "print(newplayer)"
   ]
  },
  {
   "cell_type": "code",
   "execution_count": 30,
   "metadata": {},
   "outputs": [],
   "source": [
    "newplayer.add_cards([two_hearts, two_hearts, two_hearts])"
   ]
  },
  {
   "cell_type": "code",
   "execution_count": 31,
   "metadata": {},
   "outputs": [
    {
     "name": "stdout",
     "output_type": "stream",
     "text": [
      "player jorge has 4 cards \n",
      "Two of Hearts\n",
      "Two of Hearts\n",
      "Two of Hearts\n",
      "Two of Hearts\n",
      "\n"
     ]
    }
   ],
   "source": [
    "print(newplayer)"
   ]
  },
  {
   "cell_type": "code",
   "execution_count": 32,
   "metadata": {},
   "outputs": [
    {
     "data": {
      "text/plain": [
       "<__main__.Card at 0x1c7010a1208>"
      ]
     },
     "execution_count": 32,
     "metadata": {},
     "output_type": "execute_result"
    }
   ],
   "source": [
    "newplayer.remove_one()"
   ]
  },
  {
   "cell_type": "code",
   "execution_count": 33,
   "metadata": {},
   "outputs": [
    {
     "name": "stdout",
     "output_type": "stream",
     "text": [
      "Two of Hearts\n"
     ]
    }
   ],
   "source": [
    "print(newplayer.remove_one())"
   ]
  },
  {
   "cell_type": "code",
   "execution_count": 34,
   "metadata": {},
   "outputs": [
    {
     "name": "stdout",
     "output_type": "stream",
     "text": [
      "player jorge has 2 cards \n",
      "Two of Hearts\n",
      "Two of Hearts\n",
      "\n"
     ]
    }
   ],
   "source": [
    "print(newplayer)"
   ]
  },
  {
   "cell_type": "markdown",
   "metadata": {},
   "source": [
    "## logic"
   ]
  },
  {
   "cell_type": "code",
   "execution_count": 71,
   "metadata": {},
   "outputs": [
    {
     "name": "stdout",
     "output_type": "stream",
     "text": [
      "player one has 26 cards \n",
      "Jack of Spades\n",
      "Jack of Diamonds\n",
      "Ten of Hearts\n",
      "Jack of Clubs\n",
      "Three of Diamonds\n",
      "King of Diamonds\n",
      "Four of Clubs\n",
      "Eight of Hearts\n",
      "Ace of Spades\n",
      "Ace of Clubs\n",
      "Two of Clubs\n",
      "Two of Spades\n",
      "Queen of Clubs\n",
      "Ten of Spades\n",
      "Ten of Diamonds\n",
      "Eight of Clubs\n",
      "Five of Diamonds\n",
      "Six of Hearts\n",
      "Seven of Spades\n",
      "Ace of Diamonds\n",
      "Queen of Spades\n",
      "Three of Clubs\n",
      "Eight of Spades\n",
      "Nine of Spades\n",
      "Jack of Hearts\n",
      "Seven of Diamonds\n",
      "\n",
      "player two has 26 cards \n",
      "Seven of Clubs\n",
      "Five of Spades\n",
      "Eight of Diamonds\n",
      "Nine of Diamonds\n",
      "Three of Spades\n",
      "Two of Hearts\n",
      "King of Spades\n",
      "Ace of Hearts\n",
      "Nine of Hearts\n",
      "Four of Spades\n",
      "Five of Clubs\n",
      "Six of Diamonds\n",
      "Six of Spades\n",
      "Two of Diamonds\n",
      "Six of Clubs\n",
      "Queen of Diamonds\n",
      "Seven of Hearts\n",
      "Queen of Hearts\n",
      "Four of Hearts\n",
      "King of Hearts\n",
      "Ten of Clubs\n",
      "Nine of Clubs\n",
      "Four of Diamonds\n",
      "King of Clubs\n",
      "Three of Hearts\n",
      "Five of Hearts\n",
      "\n"
     ]
    }
   ],
   "source": [
    "#init setup\n",
    "player_one=Player('one')\n",
    "player_two=Player('two')\n",
    "\n",
    "newdeck=Deck()\n",
    "newdeck.shuffle()\n",
    "\n",
    "for x in range(26):\n",
    "    player_one.add_cards(newdeck.deal_one())\n",
    "    player_two.add_cards(newdeck.deal_one())\n",
    "\n",
    "print(player_one)\n",
    "print(player_two)\n",
    "\n",
    "game_on=True"
   ]
  },
  {
   "cell_type": "code",
   "execution_count": 72,
   "metadata": {},
   "outputs": [
    {
     "name": "stdout",
     "output_type": "stream",
     "text": [
      "round 1\n",
      "one take the cards\n",
      "round 2\n",
      "one take the cards\n",
      "round 3\n",
      "one take the cards\n",
      "round 4\n",
      "one take the cards\n",
      "round 5\n",
      "War!\n",
      "one take the cards\n",
      "round 6\n",
      "two take the cards\n",
      "round 7\n",
      "two take the cards\n",
      "round 8\n",
      "one take the cards\n",
      "round 9\n",
      "one take the cards\n",
      "round 10\n",
      "one take the cards\n",
      "round 11\n",
      "two take the cards\n",
      "round 12\n",
      "two take the cards\n",
      "round 13\n",
      "two take the cards\n",
      "round 14\n",
      "one take the cards\n",
      "round 15\n",
      "one take the cards\n",
      "round 16\n",
      "one take the cards\n",
      "round 17\n",
      "two take the cards\n",
      "round 18\n",
      "one take the cards\n",
      "round 19\n",
      "two take the cards\n",
      "round 20\n",
      "one take the cards\n",
      "round 21\n",
      "one take the cards\n",
      "round 22\n",
      "one take the cards\n",
      "round 23\n",
      "one take the cards\n",
      "round 24\n",
      "one take the cards\n",
      "round 25\n",
      "one take the cards\n",
      "round 26\n",
      "two take the cards\n",
      "round 27\n",
      "War!\n",
      "two take the cards\n",
      "round 28\n",
      "one take the cards\n",
      "round 29\n",
      "one take the cards\n",
      "round 30\n",
      "one take the cards\n",
      "round 31\n",
      "two take the cards\n",
      "round 32\n",
      "two take the cards\n",
      "round 33\n",
      "one take the cards\n",
      "round 34\n",
      "one take the cards\n",
      "round 35\n",
      "one take the cards\n",
      "round 36\n",
      "two take the cards\n",
      "round 37\n",
      "one take the cards\n",
      "round 38\n",
      "two take the cards\n",
      "round 39\n",
      "one take the cards\n",
      "round 40\n",
      "two take the cards\n",
      "round 41\n",
      "one take the cards\n",
      "round 42\n",
      "one take the cards\n",
      "round 43\n",
      "two take the cards\n",
      "round 44\n",
      "War!\n",
      "two take the cards\n",
      "round 45\n",
      "War!\n",
      "two take the cards\n",
      "round 46\n",
      "two take the cards\n",
      "round 47\n",
      "one take the cards\n",
      "round 48\n",
      "two take the cards\n",
      "round 49\n",
      "one take the cards\n",
      "round 50\n",
      "two take the cards\n",
      "round 51\n",
      "one take the cards\n",
      "round 52\n",
      "two take the cards\n",
      "round 53\n",
      "one take the cards\n",
      "round 54\n",
      "two take the cards\n",
      "round 55\n",
      "one take the cards\n",
      "round 56\n",
      "one take the cards\n",
      "round 57\n",
      "one take the cards\n",
      "round 58\n",
      "one take the cards\n",
      "round 59\n",
      "one take the cards\n",
      "round 60\n",
      "two take the cards\n",
      "round 61\n",
      "one take the cards\n",
      "round 62\n",
      "two take the cards\n",
      "round 63\n",
      "one take the cards\n",
      "round 64\n",
      "two take the cards\n",
      "round 65\n",
      "one take the cards\n",
      "round 66\n",
      "two take the cards\n",
      "round 67\n",
      "one take the cards\n",
      "round 68\n",
      "one take the cards\n",
      "round 69\n",
      "one take the cards\n",
      "round 70\n",
      "two take the cards\n",
      "round 71\n",
      "two take the cards\n",
      "round 72\n",
      "two take the cards\n",
      "round 73\n",
      "two take the cards\n",
      "round 74\n",
      "one take the cards\n",
      "round 75\n",
      "one take the cards\n",
      "round 76\n",
      "two take the cards\n",
      "round 77\n",
      "two take the cards\n",
      "round 78\n",
      "War!\n",
      "one take the cards\n",
      "round 79\n",
      "one take the cards\n",
      "round 80\n",
      "one take the cards\n",
      "round 81\n",
      "one take the cards\n",
      "round 82\n",
      "two take the cards\n",
      "round 83\n",
      "one take the cards\n",
      "round 84\n",
      "one take the cards\n",
      "round 85\n",
      "two take the cards\n",
      "round 86\n",
      "one take the cards\n",
      "round 87\n",
      "War!\n",
      "one take the cards\n",
      "round 88\n",
      "War!\n",
      "two take the cards\n",
      "round 89\n",
      "two take the cards\n",
      "round 90\n",
      "one take the cards\n",
      "round 91\n",
      "two take the cards\n",
      "round 92\n",
      "two take the cards\n",
      "round 93\n",
      "two take the cards\n",
      "round 94\n",
      "two take the cards\n",
      "round 95\n",
      "one take the cards\n",
      "round 96\n",
      "one take the cards\n",
      "round 97\n",
      "one take the cards\n",
      "round 98\n",
      "two take the cards\n",
      "round 99\n",
      "one take the cards\n",
      "round 100\n",
      "two take the cards\n",
      "round 101\n",
      "one take the cards\n",
      "round 102\n",
      "one take the cards\n",
      "round 103\n",
      "one take the cards\n",
      "round 104\n",
      "War!\n",
      "two take the cards\n",
      "round 105\n",
      "two take the cards\n",
      "round 106\n",
      "one take the cards\n",
      "round 107\n",
      "one take the cards\n",
      "round 108\n",
      "one take the cards\n",
      "round 109\n",
      "one take the cards\n",
      "round 110\n",
      "one take the cards\n",
      "round 111\n",
      "two take the cards\n",
      "round 112\n",
      "two take the cards\n",
      "round 113\n",
      "two take the cards\n",
      "round 114\n",
      "one take the cards\n",
      "round 115\n",
      "two take the cards\n",
      "round 116\n",
      "one take the cards\n",
      "round 117\n",
      "two take the cards\n",
      "round 118\n",
      "two take the cards\n",
      "round 119\n",
      "two take the cards\n",
      "round 120\n",
      "two take the cards\n",
      "round 121\n",
      "two take the cards\n",
      "round 122\n",
      "one take the cards\n",
      "round 123\n",
      "one take the cards\n",
      "round 124\n",
      "two take the cards\n",
      "round 125\n",
      "one take the cards\n",
      "round 126\n",
      "one take the cards\n",
      "round 127\n",
      "one take the cards\n",
      "round 128\n",
      "two take the cards\n",
      "round 129\n",
      "one take the cards\n",
      "round 130\n",
      "one take the cards\n",
      "round 131\n",
      "one take the cards\n",
      "round 132\n",
      "one take the cards\n",
      "round 133\n",
      "two take the cards\n",
      "round 134\n",
      "two take the cards\n",
      "round 135\n",
      "one take the cards\n",
      "round 136\n",
      "two take the cards\n",
      "round 137\n",
      "two take the cards\n",
      "round 138\n",
      "two take the cards\n",
      "round 139\n",
      "two take the cards\n",
      "round 140\n",
      "two take the cards\n",
      "round 141\n",
      "one take the cards\n",
      "round 142\n",
      "War!\n",
      "two take the cards\n",
      "round 143\n",
      "two take the cards\n",
      "round 144\n",
      "one take the cards\n",
      "round 145\n",
      "two take the cards\n",
      "round 146\n",
      "one take the cards\n",
      "round 147\n",
      "one take the cards\n",
      "round 148\n",
      "two take the cards\n",
      "round 149\n",
      "two take the cards\n",
      "round 150\n",
      "one take the cards\n",
      "round 151\n",
      "one take the cards\n",
      "round 152\n",
      "one take the cards\n",
      "round 153\n",
      "one take the cards\n",
      "round 154\n",
      "two take the cards\n",
      "round 155\n",
      "one take the cards\n",
      "round 156\n",
      "one take the cards\n",
      "round 157\n",
      "one take the cards\n",
      "round 158\n",
      "one take the cards\n",
      "round 159\n",
      "two take the cards\n",
      "round 160\n",
      "one take the cards\n",
      "round 161\n",
      "two take the cards\n",
      "round 162\n",
      "one take the cards\n",
      "round 163\n",
      "War!\n",
      "one take the cards\n",
      "round 164\n",
      "one take the cards\n",
      "round 165\n",
      "one take the cards\n",
      "round 166\n",
      "one take the cards\n",
      "round 167\n",
      "two take the cards\n",
      "round 168\n",
      "two take the cards\n",
      "round 169\n",
      "two take the cards\n",
      "round 170\n",
      "two take the cards\n",
      "round 171\n",
      "two take the cards\n",
      "round 172\n",
      "two take the cards\n",
      "round 173\n",
      "War!\n",
      "two take the cards\n",
      "round 174\n",
      "War!\n",
      "one take the cards\n",
      "round 175\n",
      "one take the cards\n",
      "round 176\n",
      "two take the cards\n",
      "round 177\n",
      "two take the cards\n",
      "round 178\n",
      "War!\n",
      "two take the cards\n",
      "round 179\n",
      "two take the cards\n",
      "round 180\n",
      "two take the cards\n",
      "round 181\n",
      "one take the cards\n",
      "round 182\n",
      "two take the cards\n",
      "round 183\n",
      "two take the cards\n",
      "round 184\n",
      "one take the cards\n",
      "round 185\n",
      "two take the cards\n",
      "round 186\n",
      "two take the cards\n",
      "round 187\n",
      "one take the cards\n",
      "round 188\n",
      "one take the cards\n",
      "round 189\n",
      "two take the cards\n",
      "round 190\n",
      "one take the cards\n",
      "round 191\n",
      "two take the cards\n",
      "round 192\n",
      "one take the cards\n",
      "round 193\n",
      "two take the cards\n",
      "round 194\n",
      "one take the cards\n",
      "round 195\n",
      "two take the cards\n",
      "round 196\n",
      "one take the cards\n",
      "round 197\n",
      "two take the cards\n",
      "round 198\n",
      "one take the cards\n",
      "round 199\n",
      "two take the cards\n",
      "round 200\n",
      "two take the cards\n",
      "round 201\n",
      "one take the cards\n",
      "round 202\n",
      "one take the cards\n",
      "round 203\n",
      "War!\n",
      "War!\n",
      "two take the cards\n",
      "round 204\n",
      "one take the cards\n",
      "round 205\n",
      "one take the cards\n",
      "round 206\n",
      "one take the cards\n",
      "round 207\n",
      "two take the cards\n",
      "round 208\n",
      "two take the cards\n",
      "round 209\n",
      "one take the cards\n",
      "round 210\n",
      "two take the cards\n",
      "round 211\n",
      "two take the cards\n",
      "round 212\n",
      "two take the cards\n",
      "round 213\n",
      "two take the cards\n",
      "round 214\n",
      "two take the cards\n",
      "round 215\n",
      "two take the cards\n",
      "round 216\n",
      "two take the cards\n",
      "round 217\n",
      "two take the cards\n",
      "round 218\n",
      "one take the cards\n",
      "round 219\n",
      "one take the cards\n",
      "round 220\n",
      "one take the cards\n",
      "round 221\n",
      "two take the cards\n",
      "round 222\n",
      "two take the cards\n",
      "round 223\n",
      "two take the cards\n",
      "round 224\n",
      "one take the cards\n",
      "round 225\n",
      "one take the cards\n",
      "round 226\n",
      "War!\n",
      "one take the cards\n",
      "round 227\n",
      "two take the cards\n",
      "round 228\n",
      "two take the cards\n",
      "round 229\n",
      "two take the cards\n",
      "round 230\n",
      "War!\n",
      "one take the cards\n",
      "round 231\n",
      "one take the cards\n",
      "round 232\n",
      "two take the cards\n",
      "round 233\n",
      "one take the cards\n",
      "round 234\n",
      "two take the cards\n",
      "round 235\n",
      "one take the cards\n",
      "round 236\n",
      "one take the cards\n",
      "round 237\n",
      "one take the cards\n",
      "round 238\n",
      "two take the cards\n",
      "round 239\n",
      "two take the cards\n",
      "round 240\n",
      "two take the cards\n",
      "round 241\n",
      "one take the cards\n",
      "round 242\n",
      "two take the cards\n",
      "round 243\n",
      "two take the cards\n",
      "round 244\n",
      "two take the cards\n",
      "round 245\n",
      "one take the cards\n",
      "round 246\n",
      "two take the cards\n",
      "round 247\n",
      "one take the cards\n",
      "round 248\n",
      "one take the cards\n",
      "round 249\n",
      "one take the cards\n",
      "round 250\n",
      "two take the cards\n",
      "round 251\n",
      "two take the cards\n",
      "round 252\n",
      "two take the cards\n",
      "round 253\n",
      "two take the cards\n",
      "round 254\n",
      "two take the cards\n",
      "round 255\n",
      "one take the cards\n",
      "round 256\n",
      "two take the cards\n",
      "round 257\n",
      "two take the cards\n",
      "round 258\n",
      "two take the cards\n",
      "round 259\n",
      "two take the cards\n",
      "round 260\n",
      "two take the cards\n",
      "round 261\n",
      "two take the cards\n",
      "round 262\n",
      "two take the cards\n",
      "round 263\n",
      "two take the cards\n",
      "round 264\n",
      "two take the cards\n",
      "round 265\n",
      "one take the cards\n",
      "round 266\n",
      "War!\n",
      "one take the cards\n",
      "round 267\n",
      "two take the cards\n",
      "round 268\n",
      "two take the cards\n",
      "round 269\n",
      "two take the cards\n",
      "round 270\n",
      "War!\n",
      "two take the cards\n",
      "round 271\n",
      "one take the cards\n",
      "round 272\n",
      "one take the cards\n",
      "round 273\n",
      "one take the cards\n",
      "round 274\n",
      "one take the cards\n",
      "round 275\n",
      "two take the cards\n",
      "round 276\n",
      "two take the cards\n",
      "round 277\n",
      "two take the cards\n",
      "round 278\n",
      "two take the cards\n",
      "round 279\n",
      "two take the cards\n",
      "round 280\n",
      "one take the cards\n",
      "round 281\n",
      "two take the cards\n",
      "round 282\n",
      "two take the cards\n",
      "round 283\n",
      "two take the cards\n",
      "round 284\n",
      "one take the cards\n",
      "round 285\n",
      "one take the cards\n",
      "round 286\n",
      "one take the cards\n",
      "round 287\n",
      "one take the cards\n",
      "round 288\n",
      "War!\n",
      "two take the cards\n",
      "round 289\n",
      "one take the cards\n",
      "round 290\n",
      "one take the cards\n",
      "round 291\n",
      "two take the cards\n",
      "round 292\n",
      "two take the cards\n",
      "round 293\n",
      "two take the cards\n",
      "round 294\n",
      "two take the cards\n",
      "round 295\n",
      "player_one, out of cards, two wins\n"
     ]
    }
   ],
   "source": [
    "round_num=0\n",
    "\n",
    "while game_on:\n",
    "    \n",
    "    round_num +=1\n",
    "    print('round {}'.format(round_num))\n",
    "    \n",
    "    if len(player_one.all_cards)==0:\n",
    "        print('player_one, out of cards, two wins')\n",
    "        game_on=False\n",
    "        break\n",
    "    if len(player_two.all_cards)==0:\n",
    "        print('player_two, out of cards, one  wins')\n",
    "        game_on=False\n",
    "        break \n",
    "        \n",
    "    #start new round\n",
    "    player_one_cards=[]\n",
    "    player_one_cards.append(player_one.remove_one())\n",
    "    player_two_cards=[]        \n",
    "    player_two_cards.append(player_two.remove_one()) \n",
    "\n",
    "    atwar=True\n",
    "    while atwar:\n",
    "        if player_one_cards[-1].value>player_two_cards[-1].value:\n",
    "            print('one take the cards')\n",
    "            player_one.add_cards(player_one_cards)\n",
    "            player_one.add_cards(player_two_cards)\n",
    "            atwar=False\n",
    "        elif player_two_cards[-1].value>player_one_cards[-1].value:\n",
    "            print('two take the cards')\n",
    "            player_two.add_cards(player_two_cards)\n",
    "            player_two.add_cards(player_one_cards)\n",
    "            atwar=False\n",
    "        else:\n",
    "            print(\"War!\")\n",
    "            if len(player_one.all_cards)<5:\n",
    "                print('player_one, out of cards to play a war, two wins')\n",
    "                game_on=False\n",
    "                break\n",
    "            elif len(player_two.all_cards)<5:\n",
    "                print('player_two, out of cards to play a war, one wins')\n",
    "                game_on=False\n",
    "                break\n",
    "            else:\n",
    "                #print(player_one)\n",
    "                #print(player_two)\n",
    "                for num in range(5):\n",
    "                    player_one_cards.append(player_one.remove_one())\n",
    "                    player_two_cards.append(player_two.remove_one())"
   ]
  },
  {
   "cell_type": "code",
   "execution_count": 59,
   "metadata": {},
   "outputs": [
    {
     "data": {
      "text/plain": [
       "()"
      ]
     },
     "execution_count": 59,
     "metadata": {},
     "output_type": "execute_result"
    }
   ],
   "source": [
    "()"
   ]
  },
  {
   "cell_type": "code",
   "execution_count": null,
   "metadata": {},
   "outputs": [],
   "source": []
  },
  {
   "cell_type": "code",
   "execution_count": null,
   "metadata": {},
   "outputs": [],
   "source": []
  }
 ],
 "metadata": {
  "kernelspec": {
   "display_name": "Python 3",
   "language": "python",
   "name": "python3"
  },
  "language_info": {
   "codemirror_mode": {
    "name": "ipython",
    "version": 3
   },
   "file_extension": ".py",
   "mimetype": "text/x-python",
   "name": "python",
   "nbconvert_exporter": "python",
   "pygments_lexer": "ipython3",
   "version": "3.7.6"
  }
 },
 "nbformat": 4,
 "nbformat_minor": 4
}
